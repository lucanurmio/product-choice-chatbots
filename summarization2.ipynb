{
 "cells": [
  {
   "cell_type": "code",
   "execution_count": 1,
   "metadata": {},
   "outputs": [],
   "source": [
    "import spacy\n",
    "import pandas\n",
    "from spacy.language import Language\n",
    "from spacy.symbols import nsubj, acomp\n",
    "from collections import Counter\n",
    "from heapq import nlargest\n",
    "nlp = spacy.load('en_core_web_sm')"
   ]
  },
  {
   "cell_type": "code",
   "execution_count": 2,
   "metadata": {},
   "outputs": [],
   "source": [
    "rd = pandas.read_csv('preprossecedData.csv')\n",
    "products = rd['name'].unique()"
   ]
  },
  {
   "cell_type": "code",
   "execution_count": 3,
   "metadata": {},
   "outputs": [
    {
     "data": {
      "text/plain": [
       "<function __main__.set_custom_boundaries(doc)>"
      ]
     },
     "execution_count": 3,
     "metadata": {},
     "output_type": "execute_result"
    }
   ],
   "source": [
    "@Language.component(\"set_custom_boundaries\")\n",
    "def set_custom_boundaries(doc):\n",
    "    for token in doc[:-1]:\n",
    "        if token.text in [\",\" ,\".\", \"!\", \"?\", \":\"]:\n",
    "            doc[token.i + 1].is_sent_start = True\n",
    "            continue\n",
    "        if \",\" in token.text or \".\" in token.text or \"!\" in token.text or \"?\" in token.text or \":\" in token.text:\n",
    "            doc[token.i].is_sent_start = True\n",
    "    return doc\n",
    "nlp.add_pipe(\"set_custom_boundaries\", before=\"parser\")"
   ]
  },
  {
   "cell_type": "markdown",
   "metadata": {},
   "source": [
    "The aim of this notebook is to improve the summarization functions from summarization.ipynb by changing the sentence weighting to favor descriptive sentences consisting of noun-adjective pairs. The following steps will be made based on the explanations at https://achyutjoshi.github.io/aspect_extraction/aspectextraction"
   ]
  },
  {
   "cell_type": "code",
   "execution_count": 4,
   "metadata": {},
   "outputs": [],
   "source": [
    "def hasPair(sent):\n",
    "    pairExists = False\n",
    "    for possible_subject in sent:\n",
    "        if possible_subject.dep == nsubj and possible_subject.head.dep == acomp:\n",
    "            pairExists = True\n",
    "            break\n",
    "    return pairExists"
   ]
  },
  {
   "cell_type": "code",
   "execution_count": 5,
   "metadata": {},
   "outputs": [],
   "source": [
    "nlp.vocab[\"it\"].is_stop = False\n",
    "nlp.vocab[\"this\"].is_stop = False\n",
    "nlp.vocab[\"they\"].is_stop = False\n",
    "nlp.vocab[\"these\"].is_stop = False"
   ]
  },
  {
   "cell_type": "code",
   "execution_count": 6,
   "metadata": {},
   "outputs": [],
   "source": [
    "#Positive summary\n",
    "def summarizeP(product):\n",
    "    df = rd[(rd['name'] == product) & (rd['doRecommend'] == True)]\n",
    "    reviewText = df['text'].str.cat(sep='. ')\n",
    "    reviewDoc = nlp(reviewText)\n",
    "    pos_tag = ['NOUN', 'ADJ']\n",
    "    words = [ token.lemma_ for token in reviewDoc if token.is_stop != True and token.is_punct != True and token.pos_ in pos_tag]\n",
    "    freq_word = Counter(words)\n",
    "    max_freq = freq_word.most_common(1)[0][1]\n",
    "    for word in freq_word.keys():\n",
    "        freq_word[word] = (freq_word[word]/max_freq)\n",
    "    sent_strength = {}\n",
    "    for sent in reviewDoc.sents:\n",
    "        for word in sent:\n",
    "            if word.lemma_ in freq_word.keys():\n",
    "                if sent in sent_strength.keys():\n",
    "                    sent_strength[sent] += freq_word[word.lemma_]\n",
    "                else:\n",
    "                    sent_strength[sent] = freq_word[word.lemma_]\n",
    "        if hasPair(sent):\n",
    "            sent_strength[sent] += 1\n",
    "    important_sents = nlargest(3, sent_strength, key=sent_strength.get)\n",
    "    final_sentences = [ w.text for w in important_sents ]\n",
    "    summary = ' STOP '.join(final_sentences)#\"STOP\" included to highlight beginnings of sentences (debug)\n",
    "    return summary"
   ]
  },
  {
   "cell_type": "code",
   "execution_count": 7,
   "metadata": {},
   "outputs": [],
   "source": [
    "#Negative summary\n",
    "def summarizeN(product):\n",
    "    df = rd[(rd['name'] == product) & (rd['doRecommend'] == False)]\n",
    "    reviewText = df['text'].str.cat(sep='. ')\n",
    "    reviewDoc = nlp(reviewText)\n",
    "    pos_tag = ['NOUN', 'ADJ']\n",
    "    words = [ token.lemma_ for token in reviewDoc if token.is_stop != True and token.is_punct != True and token.pos_ in pos_tag]\n",
    "    freq_word = Counter(words)\n",
    "    max_freq = freq_word.most_common(1)[0][1]\n",
    "    for word in freq_word.keys():\n",
    "        freq_word[word] = (freq_word[word]/max_freq)\n",
    "    sent_strength = {}\n",
    "    for sent in reviewDoc.sents:\n",
    "        for word in sent:\n",
    "            if word.lemma_ in freq_word.keys():\n",
    "                if sent in sent_strength.keys():\n",
    "                    sent_strength[sent] += freq_word[word.lemma_]\n",
    "                else:\n",
    "                    sent_strength[sent] = freq_word[word.lemma_]\n",
    "        if hasPair(sent):\n",
    "            sent_strength[sent] += 1\n",
    "    important_sents = nlargest(3, sent_strength, key=sent_strength.get)\n",
    "    final_sentences = [ w.text for w in important_sents ]\n",
    "    summary = ' STOP '.join(final_sentences)#\"STOP\" included to highlight beginnings of sentences (debug)\n",
    "    return summary"
   ]
  },
  {
   "cell_type": "code",
   "execution_count": 8,
   "metadata": {},
   "outputs": [
    {
     "name": "stdout",
     "output_type": "stream",
     "text": [
      "PSummarizing AmazonBasics AAA Performance Alkaline Batteries (36 Count)\n",
      "\n",
      "great price on good batteries that seem to be just as good as most alkaline batteries I've used. STOP We've been going through a lot of AAA sized batteries and have been able to verify that these Amazon Basics batteries last just as long as other name brand alkaline batteries from Duracell, STOP These batteries seem to hold up as well as any other batteries I've used and they are cheaper than the name brand batteries I had been using\n"
     ]
    }
   ],
   "source": [
    "print(\"PSummarizing\", products[0])\n",
    "print()\n",
    "print(summarizeP(products[0]))"
   ]
  },
  {
   "cell_type": "code",
   "execution_count": 9,
   "metadata": {},
   "outputs": [
    {
     "name": "stdout",
     "output_type": "stream",
     "text": [
      "NSummarizing AmazonBasics AAA Performance Alkaline Batteries (36 Count)\n",
      "\n",
      "If these batteries continue to perform well and have normal lives we will switch all of our battery purchases from name brand batteries to this brand STOP They're such a good deal that after I got these I replaced the batteries in every device I own that uses batteries (to avoid old batteries corroding and destroying anything). STOP I can't tell you how they are tested or at what point a battery is rejected but I can tell you that there are only certain types of batteries that I will buy because I don't believe in throwing away money and I Amazon batteries are right up there with my other 2 brands.\n"
     ]
    }
   ],
   "source": [
    "print(\"NSummarizing\", products[0])\n",
    "print()\n",
    "print(summarizeN(products[0]))"
   ]
  },
  {
   "cell_type": "code",
   "execution_count": 10,
   "metadata": {},
   "outputs": [
    {
     "name": "stdout",
     "output_type": "stream",
     "text": [
      "PSummarizing AmazonBasics AA Performance Alkaline Batteries (48 Count) - Packaging May Vary\n",
      "\n",
      "materials.con's noneoverall great batteries great quality great bargainwould buy again yes they seam to be great batteries use in all devices like flashlights, STOP We've been going through a lot of AAA sized batteries and have been able to verify that these Amazon Basics batteries last just as long as other name brand alkaline batteries from Duracell, STOP Great batteries and great the price is great to I will almost definitely buy these again\n"
     ]
    }
   ],
   "source": [
    "print(\"PSummarizing\", products[1])\n",
    "print()\n",
    "print(summarizeP(products[1]))"
   ]
  },
  {
   "cell_type": "code",
   "execution_count": 11,
   "metadata": {},
   "outputs": [
    {
     "name": "stdout",
     "output_type": "stream",
     "text": [
      "NSummarizing AmazonBasics AA Performance Alkaline Batteries (48 Count) - Packaging May Vary\n",
      "\n",
      "Why pay extra for Duracell batteries when AmazonBasics' batteries will last almost as long I bought a 48-pack of AA batteries for just 12 that's just 25 cents per battery! STOP They're such a good deal that after I got these I replaced the batteries in every device I own that uses batteries (to avoid old batteries corroding and destroying anything). STOP Do you have battery-operated items Do you need AA batteries to power your items These AA batteries will power your items\n"
     ]
    }
   ],
   "source": [
    "print(\"NSummarizing\", products[1])\n",
    "print()\n",
    "print(summarizeN(products[1]))"
   ]
  },
  {
   "cell_type": "code",
   "execution_count": 12,
   "metadata": {},
   "outputs": [
    {
     "name": "stdout",
     "output_type": "stream",
     "text": [
      "PSummarizing AmazonBasics Backpack for Laptops up to 17-inches\n",
      "\n",
      "This is a nice big bag with lots of pockets and zippers. STOP although for extended use in rain you would need a separate rain cover made of coated waterproof nylon. STOP If I had a choice I'd rather the laptop slot be replaced with a waterproof cooler space as I purchased this for hiking.\n"
     ]
    }
   ],
   "source": [
    "print(\"PSummarizing\", products[2])\n",
    "print()\n",
    "print(summarizeP(products[2]))"
   ]
  },
  {
   "cell_type": "code",
   "execution_count": 13,
   "metadata": {},
   "outputs": [
    {
     "name": "stdout",
     "output_type": "stream",
     "text": [
      "NSummarizing AmazonBasics Backpack for Laptops up to 17-inches\n",
      "\n",
      "There is mid-sized compartment that is in front of the main compartment and a smaller front compartment with the obligatory organizer/pockets to hold pens, STOP My normal backpack is a smaller one from Timberline which has less compartments but seems to hold a great deal of stuff and not feel nearly as bulky as this one STOP This AmazonBasics laptop is well-made and sturdy with a variety of pocket sizes and places to put stuff.\n"
     ]
    }
   ],
   "source": [
    "print(\"NSummarizing\", products[2])\n",
    "print()\n",
    "print(summarizeN(products[2]))"
   ]
  },
  {
   "cell_type": "code",
   "execution_count": 14,
   "metadata": {},
   "outputs": [
    {
     "name": "stdout",
     "output_type": "stream",
     "text": [
      "PSummarizing AmazonBasics 15.6-Inch Laptop and Tablet Bag\n",
      "\n",
      "it's a great value for a reasonably low price STOP For the price very good value and its lasting well. STOP This bag is really great value for money,\n"
     ]
    }
   ],
   "source": [
    "print(\"PSummarizing\", products[3])\n",
    "print()\n",
    "print(summarizeP(products[3]))"
   ]
  },
  {
   "cell_type": "code",
   "execution_count": 15,
   "metadata": {},
   "outputs": [
    {
     "name": "stdout",
     "output_type": "stream",
     "text": [
      "NSummarizing AmazonBasics 15.6-Inch Laptop and Tablet Bag\n",
      "\n",
      "fab case for any laptop would buy another again i got it for my laptop and it is fine and strong plenty of pockets. STOP On arrival I put my dell Inspiron laptop inside and the charger went in the front pocket. STOP arrived on time well packed disappointed with quality does the job it was only for keeping dust off second laptop,\n"
     ]
    }
   ],
   "source": [
    "print(\"NSummarizing\", products[3])\n",
    "print()\n",
    "print(summarizeN(products[3]))"
   ]
  }
 ],
 "metadata": {
  "kernelspec": {
   "display_name": "Python 3",
   "language": "python",
   "name": "python3"
  },
  "language_info": {
   "codemirror_mode": {
    "name": "ipython",
    "version": 3
   },
   "file_extension": ".py",
   "mimetype": "text/x-python",
   "name": "python",
   "nbconvert_exporter": "python",
   "pygments_lexer": "ipython3",
   "version": "3.8.5"
  }
 },
 "nbformat": 4,
 "nbformat_minor": 4
}
