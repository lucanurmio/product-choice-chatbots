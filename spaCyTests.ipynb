{
 "cells": [
  {
   "cell_type": "markdown",
   "metadata": {},
   "source": [
    "This file is the first testing environment of this project. Let's test if spaCy can be imported."
   ]
  },
  {
   "cell_type": "code",
   "execution_count": 1,
   "metadata": {},
   "outputs": [
    {
     "name": "stdout",
     "output_type": "stream",
     "text": [
      "DET\n",
      "ADJ\n",
      "NOUN\n",
      "ADP\n",
      "DET\n",
      "NOUN\n",
      "AUX\n",
      "PART\n",
      "VERB\n",
      "DET\n",
      "NOUN\n",
      "PUNCT\n"
     ]
    }
   ],
   "source": [
    "import spacy\n",
    "nlp = spacy.load('en_core_web_sm')\n",
    "doc = nlp(\"The ultimate goal of this project is to create a chatbot.\")\n",
    "for token in doc:\n",
    "    print(token.pos_)"
   ]
  },
  {
   "cell_type": "markdown",
   "metadata": {},
   "source": [
    "Test successful. Now, let's use pandas and spaCy to look at the most common words in 5 star reviews and 1 star reviews."
   ]
  },
  {
   "cell_type": "code",
   "execution_count": 2,
   "metadata": {},
   "outputs": [],
   "source": [
    "import pandas\n",
    "from collections import Counter"
   ]
  },
  {
   "cell_type": "code",
   "execution_count": 3,
   "metadata": {},
   "outputs": [],
   "source": [
    "df = pandas.read_csv(\"Datafiniti_Amazon_Consumer_Reviews_of_Amazon_Products_May19.csv\", usecols=['id', 'name', 'reviews.doRecommend', 'reviews.rating', 'reviews.text'])\n",
    "df5 = df.loc[df['reviews.rating'] == 5]\n",
    "df1 = df.loc[df['reviews.rating'] == 1]\n",
    "nlp.max_length = 3000000;"
   ]
  },
  {
   "cell_type": "code",
   "execution_count": 4,
   "metadata": {},
   "outputs": [
    {
     "name": "stdout",
     "output_type": "stream",
     "text": [
      "[('great', 7233), ('battery', 6722), ('love', 4984), ('good', 4569), ('tablet', 4380), ('price', 4024), ('buy', 3829), ('use', 3187), ('work', 3087), ('easy', 2352), ('Amazon', 1999), ('long', 1987), ('kid', 1851), ('old', 1721), ('brand', 1700), ('purchase', 1679), ('like', 1651), ('year', 1647), ('product', 1588), ('time', 1492), ('read', 1355), ('game', 1284), ('book', 1274), ('need', 1196), ('Kindle', 1158), ('app', 1129), ('well', 986), ('play', 973), ('kindle', 963), ('get', 962), ('recommend', 938), ('quality', 931), ('value', 886), ('screen', 885), ('perfect', 872), ('lot', 856), ('far', 855), ('Fire', 851), ('nice', 815), ('gift', 798), ('want', 775), ('size', 771), ('daughter', 745), ('deal', 739), ('come', 723), ('device', 713), ('son', 712), ('cheap', 691), ('light', 674), ('new', 662), ('store', 661), ('fire', 661), ('happy', 640), ('set', 637), ('fast', 632), ('Christmas', 628), ('life', 606), ('case', 587), ('thing', 577), ('child', 569), ('2', 568), ('excellent', 567), ('watch', 560), ('enjoy', 535), ('look', 528), ('big', 516), ('little', 514), ('find', 489), ('movie', 487), ('8', 486), ('last', 475), ('money', 468), ('feature', 467), ('download', 458), ('amazon', 455), ('control', 447), ('go', 447), ('think', 440), ('hold', 433), ('charge', 420), ('small', 413), ('day', 411), ('beat', 410), ('4', 403), ('learn', 398), ('order', 397), ('free', 388), ('3', 388), ('know', 381), ('box', 378), ('video', 377), ('way', 376), ('definitely', 375), ('able', 372), ('expect', 372), ('grandson', 372), ('reader', 372), ('expensive', 366), ('make', 356), ('thank', 347)]\n"
     ]
    }
   ],
   "source": [
    "rev5 = df5['reviews.text']\n",
    "revStr5 = rev5.str.cat(sep=' ')\n",
    "revDoc5 = nlp(revStr5)\n",
    "w5 = [ token.lemma_ for token in revDoc5 if token.is_stop != True and token.is_punct != True ]\n",
    "freq5 = Counter(w5)\n",
    "most5 = freq5.most_common(100)\n",
    "print(most5)"
   ]
  },
  {
   "cell_type": "code",
   "execution_count": 5,
   "metadata": {},
   "outputs": [
    {
     "name": "stdout",
     "output_type": "stream",
     "text": [
      "[('battery', 1089), ('buy', 328), ('work', 248), ('Amazon', 241), ('use', 162), ('week', 160), ('purchase', 152), ('time', 140), ('brand', 136), ('month', 134), ('long', 133), ('bad', 132), ('last', 126), ('2', 123), ('day', 123), ('product', 123), ('remote', 115), ('try', 113), ('device', 109), ('charge', 106), ('year', 105), ('good', 98), ('leak', 96), ('go', 96), ('dead', 95), ('tablet', 94), ('money', 93), ('return', 91), ('replace', 91), ('get', 86), ('like', 81), ('4', 75), ('Duracell', 72), ('life', 71), ('light', 69), ('new', 68), ('3', 67), ('hour', 66), ('die', 65), ('app', 64), ('power', 63), ('need', 60), ('quality', 57), ('think', 57), ('half', 56), ('thing', 55), ('find', 53), ('store', 53), ('order', 53), ('waste', 52), ('know', 50), ('low', 49), ('pack', 49), ('wo', 47), ('great', 47), ('box', 47), ('nt', 47), ('review', 46), ('run', 44), ('set', 44), ('amazon', 44), ('turn', 44), ('cheap', 43), ('6', 43), ('come', 43), ('tv', 43), ('kid', 43), ('open', 43), ('pay', 43), ('sure', 42), ('item', 42), ('change', 41), ('disappointed', 41), ('one', 40), ('old', 40), ('1', 40), ('AA', 40), ('different', 39), ('5', 39), ('price', 39), ('terrible', 38), ('short', 38), ('problem', 38), ('AAA', 38), ('toy', 38), ('well', 38), ('fast', 37), ('maybe', 37), ('8', 36), ('mouse', 36), ('take', 36), ('way', 35), ('spend', 35), ('minute', 35), ('play', 34), ('batch', 33), ('charger', 32), ('start', 32), ('give', 32), ('receive', 31)]\n"
     ]
    }
   ],
   "source": [
    "rev1 = df1['reviews.text']\n",
    "revStr1 = rev1.str.cat(sep=' ')\n",
    "revDoc1 = nlp(revStr1)\n",
    "w1 = [ token.lemma_ for token in revDoc1 if token.is_stop != True and token.is_punct != True ]\n",
    "freq1 = Counter(w1)\n",
    "most1 = freq1.most_common(100)\n",
    "print(most1)"
   ]
  }
 ],
 "metadata": {
  "kernelspec": {
   "display_name": "Python 3",
   "language": "python",
   "name": "python3"
  },
  "language_info": {
   "codemirror_mode": {
    "name": "ipython",
    "version": 3
   },
   "file_extension": ".py",
   "mimetype": "text/x-python",
   "name": "python",
   "nbconvert_exporter": "python",
   "pygments_lexer": "ipython3",
   "version": "3.8.5"
  }
 },
 "nbformat": 4,
 "nbformat_minor": 4
}
