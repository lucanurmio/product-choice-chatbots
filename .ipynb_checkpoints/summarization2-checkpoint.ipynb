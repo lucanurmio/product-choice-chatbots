{
 "cells": [
  {
   "cell_type": "code",
   "execution_count": 1,
   "metadata": {},
   "outputs": [],
   "source": [
    "import spacy\n",
    "import pandas\n",
    "import statistics\n",
    "from spacy.language import Language\n",
    "from spacy.symbols import nsubj, acomp\n",
    "from collections import Counter\n",
    "from heapq import nlargest\n",
    "nlp = spacy.load('en_core_web_sm')"
   ]
  },
  {
   "cell_type": "code",
   "execution_count": 2,
   "metadata": {},
   "outputs": [],
   "source": [
    "rd = pandas.read_csv('preprossecedData.csv')\n",
    "products = rd['name'].unique()"
   ]
  },
  {
   "cell_type": "code",
   "execution_count": 3,
   "metadata": {},
   "outputs": [
    {
     "data": {
      "text/plain": [
       "<function __main__.set_custom_boundaries(doc)>"
      ]
     },
     "execution_count": 3,
     "metadata": {},
     "output_type": "execute_result"
    }
   ],
   "source": [
    "@Language.component(\"set_custom_boundaries\")\n",
    "def set_custom_boundaries(doc):\n",
    "    for token in doc[:-1]:\n",
    "        if token.text in [\",\" ,\".\", \"!\", \"?\", \":\", \"-\"]:\n",
    "            doc[token.i + 1].is_sent_start = True\n",
    "    return doc\n",
    "nlp.add_pipe(\"set_custom_boundaries\", before=\"parser\")"
   ]
  },
  {
   "cell_type": "markdown",
   "metadata": {},
   "source": [
    "The aim of this notebook is to improve the summarization functions from summarization.ipynb by changing the sentence weighting to favor descriptive sentences consisting of noun-adjective pairs. The following steps will be made based on the explanations at https://achyutjoshi.github.io/aspect_extraction/aspectextraction"
   ]
  },
  {
   "cell_type": "code",
   "execution_count": 4,
   "metadata": {},
   "outputs": [],
   "source": [
    "def hasPair(sent):\n",
    "    pairExists = False\n",
    "    for possible_subject in sent:\n",
    "        if possible_subject.dep == nsubj and acomp in [child.dep for child in possible_subject.head.children]:\n",
    "            pairExists = True\n",
    "            break\n",
    "    return pairExists"
   ]
  },
  {
   "cell_type": "code",
   "execution_count": 5,
   "metadata": {},
   "outputs": [],
   "source": [
    "nlp.vocab[\"it\"].is_stop = False\n",
    "nlp.vocab[\"this\"].is_stop = False\n",
    "nlp.vocab[\"they\"].is_stop = False\n",
    "nlp.vocab[\"these\"].is_stop = False"
   ]
  },
  {
   "cell_type": "code",
   "execution_count": 6,
   "metadata": {},
   "outputs": [],
   "source": [
    "#Positive summary\n",
    "def summarizeP(product):\n",
    "    df = rd[(rd['name'] == product) & (rd['doRecommend'] == True)]\n",
    "    reviewText = df['text'].str.cat(sep='. ')\n",
    "    reviewText = reviewText.replace(\".. \", \". \")\n",
    "    reviewText = reviewText.replace(\".\", \". \")\n",
    "    reviewText = reviewText.replace(\",\", \", \")\n",
    "    reviewText = reviewText.replace(\"  \", \" \")\n",
    "    reviewDoc = nlp(reviewText)\n",
    "    pos_tag = ['NOUN', 'ADJ']\n",
    "    words = [ token.lemma_ for token in reviewDoc if token.is_stop != True and token.is_punct != True and token.pos_ in pos_tag]\n",
    "    freq_word = Counter(words)\n",
    "    max_freq = freq_word.most_common(1)[0][1]\n",
    "    for word in freq_word.keys():\n",
    "        freq_word[word] = (freq_word[word]/max_freq)\n",
    "    sent_strength = {}\n",
    "    for sent in reviewDoc.sents:\n",
    "        sent_strength[sent] = 0\n",
    "        for word in sent:\n",
    "            if word.lemma_ in freq_word.keys():\n",
    "                sent_strength[sent] += freq_word[word.lemma_]\n",
    "        if hasPair(sent):\n",
    "            sent_strength[sent] += len(sent.text)\n",
    "        sent_strength[sent] /= len(sent.text)\n",
    "    important_sents = nlargest(3, sent_strength, key=sent_strength.get)\n",
    "    final_sentences = [ w.text for w in important_sents ]\n",
    "    summary = ' '.join(final_sentences)\n",
    "    return summary"
   ]
  },
  {
   "cell_type": "code",
   "execution_count": 7,
   "metadata": {},
   "outputs": [],
   "source": [
    "#Negative summary\n",
    "def summarizeN(product):\n",
    "    df = rd[(rd['name'] == product) & (rd['doRecommend'] == False)]\n",
    "    reviewText = df['text'].str.cat(sep='. ')\n",
    "    reviewText = reviewText.replace(\".. \", \". \")\n",
    "    reviewText = reviewText.replace(\".\", \". \")\n",
    "    reviewText = reviewText.replace(\",\", \", \")\n",
    "    reviewText = reviewText.replace(\"  \", \" \")\n",
    "    reviewDoc = nlp(reviewText)\n",
    "    pos_tag = ['NOUN', 'ADJ']\n",
    "    words = [ token.lemma_ for token in reviewDoc if token.is_stop != True and token.is_punct != True and token.pos_ in pos_tag]\n",
    "    freq_word = Counter(words)\n",
    "    max_freq = freq_word.most_common(1)[0][1]\n",
    "    for word in freq_word.keys():\n",
    "        freq_word[word] = (freq_word[word]/max_freq)\n",
    "    sent_strength = {}\n",
    "    for sent in reviewDoc.sents:\n",
    "        sent_strength[sent] = 0\n",
    "        for word in sent:\n",
    "            if word.lemma_ in freq_word.keys():\n",
    "                sent_strength[sent] += freq_word[word.lemma_]\n",
    "        if hasPair(sent):\n",
    "            sent_strength[sent] += len(sent.text)\n",
    "        sent_strength[sent] /= len(sent.text)\n",
    "    important_sents = nlargest(3, sent_strength, key=sent_strength.get)\n",
    "    final_sentences = [ w.text for w in important_sents ]\n",
    "    summary = ' '.join(final_sentences)\n",
    "    return summary"
   ]
  },
  {
   "cell_type": "code",
   "execution_count": 8,
   "metadata": {},
   "outputs": [
    {
     "name": "stdout",
     "output_type": "stream",
     "text": [
      "PSummarizing AmazonBasics AAA Performance Alkaline Batteries (36 Count)\n",
      "\n",
      "Batteries are great. Batteries are good, The battery is great,\n"
     ]
    }
   ],
   "source": [
    "print(\"PSummarizing\", products[0])\n",
    "print()\n",
    "print(summarizeP(products[0]))"
   ]
  },
  {
   "cell_type": "code",
   "execution_count": 9,
   "metadata": {},
   "outputs": [
    {
     "name": "stdout",
     "output_type": "stream",
     "text": [
      "NSummarizing AmazonBasics AAA Performance Alkaline Batteries (36 Count)\n",
      "\n",
      "Batteries are great, Batteries are fine. batteries aren't great,\n"
     ]
    }
   ],
   "source": [
    "print(\"NSummarizing\", products[0])\n",
    "print()\n",
    "print(summarizeN(products[0]))"
   ]
  },
  {
   "cell_type": "code",
   "execution_count": 10,
   "metadata": {},
   "outputs": [
    {
     "name": "stdout",
     "output_type": "stream",
     "text": [
      "PSummarizing AmazonBasics AA Performance Alkaline Batteries (48 Count) - Packaging May Vary\n",
      "\n",
      "batteries are great. Batteries are good, The batteries are great!\n"
     ]
    }
   ],
   "source": [
    "print(\"PSummarizing\", products[1])\n",
    "print()\n",
    "print(summarizeP(products[1]))"
   ]
  },
  {
   "cell_type": "code",
   "execution_count": 11,
   "metadata": {},
   "outputs": [
    {
     "name": "stdout",
     "output_type": "stream",
     "text": [
      "NSummarizing AmazonBasics AA Performance Alkaline Batteries (48 Count) - Packaging May Vary\n",
      "\n",
      "Batteries are fine. batteries aren't great, Price per battery is great.\n"
     ]
    }
   ],
   "source": [
    "print(\"NSummarizing\", products[1])\n",
    "print()\n",
    "print(summarizeN(products[1]))"
   ]
  },
  {
   "cell_type": "code",
   "execution_count": 12,
   "metadata": {},
   "outputs": [
    {
     "name": "stdout",
     "output_type": "stream",
     "text": [
      "PSummarizing AmazonBasics Backpack for Laptops up to 17-inches\n",
      "\n",
      "ouch for water container is small. The equipment was heavy and prone to mildew if you weren't careful, Lots of pockets,\n"
     ]
    }
   ],
   "source": [
    "print(\"PSummarizing\", products[2])\n",
    "print()\n",
    "print(summarizeP(products[2]))"
   ]
  },
  {
   "cell_type": "code",
   "execution_count": 13,
   "metadata": {},
   "outputs": [
    {
     "name": "stdout",
     "output_type": "stream",
     "text": [
      "NSummarizing AmazonBasics Backpack for Laptops up to 17-inches\n",
      "\n",
      "The padding for my back and the laptop pocket is nice and thick. The backpack is a bit much for everyday use (just in bulk and number of pockets, but it's great.\n"
     ]
    }
   ],
   "source": [
    "print(\"NSummarizing\", products[2])\n",
    "print()\n",
    "print(summarizeN(products[2]))"
   ]
  },
  {
   "cell_type": "code",
   "execution_count": 14,
   "metadata": {},
   "outputs": [
    {
     "name": "stdout",
     "output_type": "stream",
     "text": [
      "PSummarizing AmazonBasics 15.6-Inch Laptop and Tablet Bag\n",
      "\n",
      "he price was so low that I expected Everything was great type of bag but this is perfect.\n"
     ]
    }
   ],
   "source": [
    "print(\"PSummarizing\", products[3])\n",
    "print()\n",
    "print(summarizeP(products[3]))"
   ]
  },
  {
   "cell_type": "code",
   "execution_count": 15,
   "metadata": {},
   "outputs": [
    {
     "name": "stdout",
     "output_type": "stream",
     "text": [
      "NSummarizing AmazonBasics 15.6-Inch Laptop and Tablet Bag\n",
      "\n",
      "I am a Verizon Technician and this laptop case is perfect for what I do! Does it's job fine, Inside the laptop slips in the middle then your are able to put a ipad and maybe a diary either side.\n"
     ]
    }
   ],
   "source": [
    "print(\"NSummarizing\", products[3])\n",
    "print()\n",
    "print(summarizeN(products[3]))"
   ]
  }
 ],
 "metadata": {
  "kernelspec": {
   "display_name": "Python 3",
   "language": "python",
   "name": "python3"
  },
  "language_info": {
   "codemirror_mode": {
    "name": "ipython",
    "version": 3
   },
   "file_extension": ".py",
   "mimetype": "text/x-python",
   "name": "python",
   "nbconvert_exporter": "python",
   "pygments_lexer": "ipython3",
   "version": "3.8.5"
  }
 },
 "nbformat": 4,
 "nbformat_minor": 4
}
