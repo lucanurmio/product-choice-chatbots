{
 "cells": [
  {
   "cell_type": "code",
   "execution_count": 1,
   "metadata": {},
   "outputs": [],
   "source": [
    "import spacy\n",
    "import pandas\n",
    "from collections import Counter\n",
    "from heapq import nlargest\n",
    "nlp = spacy.load('en_core_web_sm')"
   ]
  },
  {
   "cell_type": "code",
   "execution_count": 2,
   "metadata": {},
   "outputs": [],
   "source": [
    "rd = pandas.read_csv('preprossecedData.csv')\n",
    "products = rd['name'].unique()"
   ]
  },
  {
   "cell_type": "markdown",
   "metadata": {},
   "source": [
    "The function below is mostly based on the spaCy summarization algorithm in https://medium.com/analytics-vidhya/text-summarization-using-spacy-ca4867c6b744.\n",
    "\n",
    "It takes a product name as an argument, then combines all reviews about that product into one text, and the sentences in this text are used to produce the summary.\n",
    "\n",
    "The weight of each sentence is determined by the sum of the normalized frequencies of the words in that sentence.\n",
    "\n",
    "The normalized frequency of each word is its frequency in the text, divided by the frequency of the most common word."
   ]
  },
  {
   "cell_type": "code",
   "execution_count": 3,
   "metadata": {},
   "outputs": [],
   "source": [
    "def summarize(product):\n",
    "    df = rd[rd['name'] == product]\n",
    "    reviewText = df['text'].str.cat(sep=' ')\n",
    "    reviewDoc = nlp(reviewText)\n",
    "    pos_tag = ['PROPN', 'ADJ', 'NOUN', 'VERB']\n",
    "    words = [ token.text for token in reviewDoc if token.is_stop != True and token.is_punct != True and token.pos_ in pos_tag]\n",
    "    freq_word = Counter(words)\n",
    "    max_freq = freq_word.most_common(1)[0][1]\n",
    "    for word in freq_word.keys():\n",
    "        freq_word[word] = (freq_word[word]/max_freq)\n",
    "    sent_strength = {}\n",
    "    for sent in reviewDoc.sents:\n",
    "        for word in sent:\n",
    "            if word.text in freq_word.keys():\n",
    "                if sent in sent_strength.keys():\n",
    "                    sent_strength[sent] += freq_word[word.text]\n",
    "                else:\n",
    "                    sent_strength[sent] = freq_word[word.text]\n",
    "    important_sents = nlargest(3, sent_strength, key=sent_strength.get)\n",
    "    final_sentences = [ w.text for w in important_sents ]\n",
    "    summary = ' '.join(final_sentences)\n",
    "    return summary"
   ]
  },
  {
   "cell_type": "code",
   "execution_count": 4,
   "metadata": {
    "scrolled": true
   },
   "outputs": [
    {
     "data": {
      "text/plain": [
       "\"My roommates stole them all and never complained! great price and long lasting same as above batteries, great price and long lasting and appreciate quality and great price these are the only AA batteries i buy now, great price and outlasts any of the batteries from the big box stores I haven't tested them to compare to other brands, but the Amazon batteries are a great price and great packaging. I never use amazon batteries before,but I love it, It's good for the price,it last just as long as duracell batteries, and the design of the batteries is just cute Pros: You can get a LOT of batteries for a very cheap price!Cons: Batteries do not last very long at ALL!I don't mind changing out batteries on something I use constantly since I got the hundred back, but it can get a little annoying doing it once a week. I will never buy batteries from anywhere else Good batteries, just as great as name brand but for a cheaper price Good batteries, the humble packaging makes them cheaper than other brands too good batteries, they last long time.\""
      ]
     },
     "execution_count": 4,
     "metadata": {},
     "output_type": "execute_result"
    }
   ],
   "source": [
    "summarize(products[0])"
   ]
  },
  {
   "cell_type": "markdown",
   "metadata": {},
   "source": [
    "With the current definition of the summarize function, some of the weighed sentences are too long. This is a weakness of using the spaCy dependency parser for setting sentence boundaries within the text containing all reviews of the product.\n",
    "\n",
    "A possible solution to this problem is to use rule based sentence segmentation instead of spaCy's default segmentation technique."
   ]
  }
 ],
 "metadata": {
  "kernelspec": {
   "display_name": "Python 3",
   "language": "python",
   "name": "python3"
  },
  "language_info": {
   "codemirror_mode": {
    "name": "ipython",
    "version": 3
   },
   "file_extension": ".py",
   "mimetype": "text/x-python",
   "name": "python",
   "nbconvert_exporter": "python",
   "pygments_lexer": "ipython3",
   "version": "3.8.5"
  }
 },
 "nbformat": 4,
 "nbformat_minor": 4
}
