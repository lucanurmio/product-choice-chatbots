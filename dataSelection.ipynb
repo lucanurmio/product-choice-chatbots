{
 "cells": [
  {
   "cell_type": "markdown",
   "metadata": {},
   "source": [
    "To make the first, preliminary selection of relevant review data, we will consider the number of reviews per product"
   ]
  },
  {
   "cell_type": "code",
   "execution_count": 1,
   "metadata": {},
   "outputs": [],
   "source": [
    "import pandas\n",
    "import statistics\n",
    "import spacy\n",
    "nlp = spacy.load('en_core_web_sm')\n",
    "df = pandas.read_csv(\"Datafiniti_Amazon_Consumer_Reviews_of_Amazon_Products_May19.csv\", usecols=['id', 'name', 'reviews.doRecommend', 'reviews.rating', 'reviews.text'])\n",
    "productNames = df['name'].unique()"
   ]
  },
  {
   "cell_type": "code",
   "execution_count": 2,
   "metadata": {},
   "outputs": [],
   "source": [
    "reviewsPerProduct = {}\n",
    "for name in productNames:\n",
    "    reviewsPerProduct[name] = len(df[df['name'] == name])"
   ]
  },
  {
   "cell_type": "markdown",
   "metadata": {},
   "source": [
    "# Selection\n",
    "Since some of the products have far more reviews than others, we will for now look at products with more than 20 reviews to avoid giving too much weight to individual reviews."
   ]
  },
  {
   "cell_type": "code",
   "execution_count": 3,
   "metadata": {},
   "outputs": [],
   "source": [
    "for key, value in dict(reviewsPerProduct).items():\n",
    "    if value < 20:\n",
    "        del reviewsPerProduct[key]\n",
    "relevantProducts = list(reviewsPerProduct.keys())"
   ]
  },
  {
   "cell_type": "code",
   "execution_count": 4,
   "metadata": {},
   "outputs": [],
   "source": [
    "df2 = df[df['name'].isin(relevantProducts)]"
   ]
  },
  {
   "cell_type": "markdown",
   "metadata": {},
   "source": [
    "The total number of selected reviews is"
   ]
  },
  {
   "cell_type": "code",
   "execution_count": 5,
   "metadata": {},
   "outputs": [
    {
     "name": "stdout",
     "output_type": "stream",
     "text": [
      "28174\n"
     ]
    }
   ],
   "source": [
    "print(len(df2))"
   ]
  },
  {
   "cell_type": "markdown",
   "metadata": {},
   "source": [
    "The total number of selected products is"
   ]
  },
  {
   "cell_type": "code",
   "execution_count": 6,
   "metadata": {},
   "outputs": [
    {
     "name": "stdout",
     "output_type": "stream",
     "text": [
      "33\n"
     ]
    }
   ],
   "source": [
    "print(len(relevantProducts))"
   ]
  },
  {
   "cell_type": "markdown",
   "metadata": {},
   "source": [
    "The lower and upper bounds as well as the average of the number of reviews per product are"
   ]
  },
  {
   "cell_type": "code",
   "execution_count": 7,
   "metadata": {},
   "outputs": [
    {
     "name": "stdout",
     "output_type": "stream",
     "text": [
      "21\n",
      "8343\n",
      "853.7575757575758\n"
     ]
    }
   ],
   "source": [
    "print(min(reviewsPerProduct.values()))\n",
    "print(max(reviewsPerProduct.values()))\n",
    "print(statistics.mean(reviewsPerProduct.values()))"
   ]
  },
  {
   "cell_type": "markdown",
   "metadata": {},
   "source": [
    "The average number of words in the reviews is"
   ]
  },
  {
   "cell_type": "code",
   "execution_count": 8,
   "metadata": {},
   "outputs": [],
   "source": [
    "nlp.max_length = 4000000;"
   ]
  },
  {
   "cell_type": "code",
   "execution_count": 9,
   "metadata": {},
   "outputs": [
    {
     "name": "stdout",
     "output_type": "stream",
     "text": [
      "26.17377724142827\n"
     ]
    }
   ],
   "source": [
    "reviewText = df2['reviews.text'].str.cat(sep=' ')\n",
    "reviewText = nlp(reviewText)\n",
    "words = [ token.lemma_ for token in reviewText if token.is_punct != True ]\n",
    "print(len(words) / len(df2))"
   ]
  },
  {
   "cell_type": "markdown",
   "metadata": {},
   "source": [
    "The percentage of reviews without a 'recommended' value is"
   ]
  },
  {
   "cell_type": "code",
   "execution_count": 10,
   "metadata": {},
   "outputs": [
    {
     "name": "stdout",
     "output_type": "stream",
     "text": [
      "43.029033861006596\n"
     ]
    }
   ],
   "source": [
    "taggedRevAmount = len(df2[df2['reviews.doRecommend'] == False]) + len(df2[df2['reviews.doRecommend'] == True])\n",
    "print(((len(df2) - taggedRevAmount) / len(df2)) * 100)"
   ]
  },
  {
   "cell_type": "markdown",
   "metadata": {},
   "source": [
    "## Pre-processing\n",
    "The average length of a review in the preliminary selection is 26 words which is well enough to form an informative sentence. Since reviews with 30 or less characters may be too short to get significant information from, we will filter these reviews out.\n",
    "\n",
    "Considering that a large portion of the reviews (43%) have no attribute signifying whether the reviewer recommends the product or not, it would make sense to manually add these attributes using the \"star scheme\" ratings in the reviews. As shown in RatingsVsRecommendations.ipynb, recommending reviews overwhelmingly give 5-star and 4-star ratings, while rather negative reviews tend to be in the range 1-3. While this does not necessarily mean that the majority of 3, 2 or even 1 star reviews are tagged as \"not recommended\", we will give 1 to 3 star reviews a \"not recommend\" attribute and 4 to 5 star reviews a \"recommend\" attribute, if they do not have one of these attributes already."
   ]
  },
  {
   "cell_type": "code",
   "execution_count": 11,
   "metadata": {},
   "outputs": [],
   "source": [
    "df3 = df2[df2['reviews.text'].str.len() > 30].copy()\n",
    "df3.columns = ['id', 'name', 'doRecommend', 'rating', 'text']"
   ]
  },
  {
   "cell_type": "code",
   "execution_count": null,
   "metadata": {},
   "outputs": [],
   "source": [
    "df3.loc[df3['doRecommend'] != True & df3['doRecommend'] != False & df3['rating'] > 3, 'doRecommend'] = True"
   ]
  }
 ],
 "metadata": {
  "kernelspec": {
   "display_name": "Python 3",
   "language": "python",
   "name": "python3"
  },
  "language_info": {
   "codemirror_mode": {
    "name": "ipython",
    "version": 3
   },
   "file_extension": ".py",
   "mimetype": "text/x-python",
   "name": "python",
   "nbconvert_exporter": "python",
   "pygments_lexer": "ipython3",
   "version": "3.8.5"
  }
 },
 "nbformat": 4,
 "nbformat_minor": 4
}
